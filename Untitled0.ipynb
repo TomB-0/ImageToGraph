{
  "nbformat": 4,
  "nbformat_minor": 0,
  "metadata": {
    "colab": {
      "provenance": [],
      "collapsed_sections": [],
      "authorship_tag": "ABX9TyOpkoqz4HgfwquwWqOjp/II"
    },
    "kernelspec": {
      "name": "python3",
      "display_name": "Python 3"
    },
    "language_info": {
      "name": "python"
    }
  },
  "cells": [
    {
      "cell_type": "code",
      "execution_count": 2,
      "metadata": {
        "colab": {
          "base_uri": "https://localhost:8080/"
        },
        "id": "s4l7II5ebR5h",
        "outputId": "fa2fc407-539d-449b-bdb6-9688a0d6b915"
      },
      "outputs": [
        {
          "name": "stdout",
          "output_type": "stream",
          "text": [
            "Input picture one\n",
            "/content/black500x500.jpg\n",
            "Input picture two\n",
            "/content/black500x500.jpg\n"
          ]
        }
      ],
      "source": [
        "from PIL import Image\n",
        "import numpy as np\n",
        "# \"/content/101078155_2971835786235445_146063415306092544_n.png\"\n",
        "# \"/content/cubes.jpg\"\n",
        "# /content/test.jpg\n",
        "#/content/white500x500.jpg\n",
        "#/content/black500x500.jpg\n",
        "# skaidinys 5x5\n",
        "\n",
        "print(\"Input picture one\")\n",
        "userImage1 = input();\n",
        "print(\"Input picture two\")\n",
        "userImage2 = input();\n",
        "im1 = Image.open(userImage1)\n",
        "im2 = Image.open(userImage2)\n",
        "\n",
        "skaidArr1 = [[0 for i in range(int(im1.height/5))] for j in range(int(im1.width/5))]\n",
        "skaidArr2 = [[0 for i in range(int(im1.height/5))] for j in range(int(im1.width/5))]\n",
        "skaidDifAbs = [[0 for i in range(int(im1.height/5))] for j in range(int(im1.width/5))] \n",
        "skaidDif = [[0 for i in range(int(im1.height/5))] for j in range(int(im1.width/5))] \n",
        "\n",
        "maxDif = 0\n",
        "x1 = 0\n",
        "y1 = 0\n",
        "x2 = 0\n",
        "y2 = 0\n",
        "for i in range(1,im1.height):\n",
        "    for j in range(1,im1.width):\n",
        "      pixelRGB1 = im1.getpixel((j,i))\n",
        "      pixelRGB2 = im2.getpixel((j,i))\n",
        "      R1,G1,B1 = pixelRGB1\n",
        "      R2,G2,B2 = pixelRGB2\n",
        "      skaidArr1[y1][x1]+=(sum([R1,G1,B1])/3)\n",
        "      skaidArr2[y2][x2]+=(sum([R2,G2,B2])/3)\n",
        "      if(j%5==0):\n",
        "        x1+=1\n",
        "        x2+=1\n",
        "    if(i%5==0):\n",
        "      y1+=1\n",
        "      y2+=1\n",
        "      for y in range(0,int(im1.width/5)):\n",
        "        skaidArr1[y1-1][y]=(skaidArr1[y1-1][y]/25)\n",
        "        skaidArr2[y2-1][y]=(skaidArr2[y2-1][y]/25)\n",
        "        temp = abs(skaidArr1[y1-1][y] - skaidArr1[y2-1][y])\n",
        "        skaidDifAbs[y1-1][y] = abs(skaidArr1[y-1][y]-skaidArr2[y2-1][y]) # skaidinių skirtumai\n",
        "        if(skaidDifAbs[y1-1][y] > maxDif):\n",
        "          maxDif = skaidDifAbs[y1-1][y]\n",
        "    x1=0\n",
        "    x2=0"
      ]
    }
  ]
}